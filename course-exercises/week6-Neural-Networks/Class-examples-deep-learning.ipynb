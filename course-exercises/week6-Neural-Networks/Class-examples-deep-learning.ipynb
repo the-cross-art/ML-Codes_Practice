{
 "cells": [
  {
   "cell_type": "markdown",
   "metadata": {},
   "source": [
    "# Using deep features to train an image classifier"
   ]
  },
  {
   "cell_type": "code",
   "execution_count": 1,
   "metadata": {},
   "outputs": [],
   "source": [
    "import turicreate"
   ]
  },
  {
   "cell_type": "markdown",
   "metadata": {},
   "source": [
    "# Load some data"
   ]
  },
  {
   "cell_type": "code",
   "execution_count": 2,
   "metadata": {},
   "outputs": [],
   "source": [
    "image_train = turicreate.SFrame('../../data/image_train_data/')\n",
    "image_test = turicreate.SFrame('../../data/image_test_data/')"
   ]
  },
  {
   "cell_type": "markdown",
   "metadata": {},
   "source": [
    "# Explore this image data"
   ]
  },
  {
   "cell_type": "code",
   "execution_count": 18,
   "metadata": {},
   "outputs": [
    {
     "data": {
      "text/html": [
       "<div style=\"max-height:1000px;max-width:1500px;overflow:auto;\"><table frame=\"box\" rules=\"cols\">\n",
       "    <tr>\n",
       "        <th style=\"padding-left: 1em; padding-right: 1em; text-align: center\">id</th>\n",
       "        <th style=\"padding-left: 1em; padding-right: 1em; text-align: center\">image</th>\n",
       "        <th style=\"padding-left: 1em; padding-right: 1em; text-align: center\">label</th>\n",
       "        <th style=\"padding-left: 1em; padding-right: 1em; text-align: center\">deep_features</th>\n",
       "        <th style=\"padding-left: 1em; padding-right: 1em; text-align: center\">image_array</th>\n",
       "    </tr>\n",
       "    <tr>\n",
       "        <td style=\"padding-left: 1em; padding-right: 1em; text-align: center; vertical-align: top\">24</td>\n",
       "        <td style=\"padding-left: 1em; padding-right: 1em; text-align: center; vertical-align: top\">Height: 32 Width: 32</td>\n",
       "        <td style=\"padding-left: 1em; padding-right: 1em; text-align: center; vertical-align: top\">bird</td>\n",
       "        <td style=\"padding-left: 1em; padding-right: 1em; text-align: center; vertical-align: top\">[0.24287176132202148,<br>1.0954537391662598, 0.0, ...</td>\n",
       "        <td style=\"padding-left: 1em; padding-right: 1em; text-align: center; vertical-align: top\">[73.0, 77.0, 58.0, 71.0,<br>68.0, 50.0, 77.0, 69.0, ...</td>\n",
       "    </tr>\n",
       "    <tr>\n",
       "        <td style=\"padding-left: 1em; padding-right: 1em; text-align: center; vertical-align: top\">33</td>\n",
       "        <td style=\"padding-left: 1em; padding-right: 1em; text-align: center; vertical-align: top\">Height: 32 Width: 32</td>\n",
       "        <td style=\"padding-left: 1em; padding-right: 1em; text-align: center; vertical-align: top\">cat</td>\n",
       "        <td style=\"padding-left: 1em; padding-right: 1em; text-align: center; vertical-align: top\">[0.5250879526138306, 0.0,<br>0.0, 0.0, 0.0, 0.0, ...</td>\n",
       "        <td style=\"padding-left: 1em; padding-right: 1em; text-align: center; vertical-align: top\">[7.0, 5.0, 8.0, 7.0, 5.0,<br>8.0, 5.0, 4.0, 6.0, 7.0, ...</td>\n",
       "    </tr>\n",
       "    <tr>\n",
       "        <td style=\"padding-left: 1em; padding-right: 1em; text-align: center; vertical-align: top\">36</td>\n",
       "        <td style=\"padding-left: 1em; padding-right: 1em; text-align: center; vertical-align: top\">Height: 32 Width: 32</td>\n",
       "        <td style=\"padding-left: 1em; padding-right: 1em; text-align: center; vertical-align: top\">cat</td>\n",
       "        <td style=\"padding-left: 1em; padding-right: 1em; text-align: center; vertical-align: top\">[0.5660159587860107, 0.0,<br>0.0, 0.0, 0.0, 0.0, ...</td>\n",
       "        <td style=\"padding-left: 1em; padding-right: 1em; text-align: center; vertical-align: top\">[169.0, 122.0, 65.0,<br>131.0, 108.0, 75.0, ...</td>\n",
       "    </tr>\n",
       "    <tr>\n",
       "        <td style=\"padding-left: 1em; padding-right: 1em; text-align: center; vertical-align: top\">70</td>\n",
       "        <td style=\"padding-left: 1em; padding-right: 1em; text-align: center; vertical-align: top\">Height: 32 Width: 32</td>\n",
       "        <td style=\"padding-left: 1em; padding-right: 1em; text-align: center; vertical-align: top\">dog</td>\n",
       "        <td style=\"padding-left: 1em; padding-right: 1em; text-align: center; vertical-align: top\">[1.129795789718628, 0.0,<br>0.0, 0.7781944870948792, ...</td>\n",
       "        <td style=\"padding-left: 1em; padding-right: 1em; text-align: center; vertical-align: top\">[154.0, 179.0, 152.0,<br>159.0, 183.0, 157.0, ...</td>\n",
       "    </tr>\n",
       "    <tr>\n",
       "        <td style=\"padding-left: 1em; padding-right: 1em; text-align: center; vertical-align: top\">90</td>\n",
       "        <td style=\"padding-left: 1em; padding-right: 1em; text-align: center; vertical-align: top\">Height: 32 Width: 32</td>\n",
       "        <td style=\"padding-left: 1em; padding-right: 1em; text-align: center; vertical-align: top\">bird</td>\n",
       "        <td style=\"padding-left: 1em; padding-right: 1em; text-align: center; vertical-align: top\">[1.7178692817687988, 0.0,<br>0.0, 0.0, 0.0, 0.0, ...</td>\n",
       "        <td style=\"padding-left: 1em; padding-right: 1em; text-align: center; vertical-align: top\">[216.0, 195.0, 180.0,<br>201.0, 178.0, 160.0, ...</td>\n",
       "    </tr>\n",
       "    <tr>\n",
       "        <td style=\"padding-left: 1em; padding-right: 1em; text-align: center; vertical-align: top\">97</td>\n",
       "        <td style=\"padding-left: 1em; padding-right: 1em; text-align: center; vertical-align: top\">Height: 32 Width: 32</td>\n",
       "        <td style=\"padding-left: 1em; padding-right: 1em; text-align: center; vertical-align: top\">automobile</td>\n",
       "        <td style=\"padding-left: 1em; padding-right: 1em; text-align: center; vertical-align: top\">[1.5781855583190918, 0.0,<br>0.0, 0.0, 0.0, 0.0, ...</td>\n",
       "        <td style=\"padding-left: 1em; padding-right: 1em; text-align: center; vertical-align: top\">[33.0, 44.0, 27.0, 29.0,<br>44.0, 31.0, 32.0, 45.0, ...</td>\n",
       "    </tr>\n",
       "    <tr>\n",
       "        <td style=\"padding-left: 1em; padding-right: 1em; text-align: center; vertical-align: top\">107</td>\n",
       "        <td style=\"padding-left: 1em; padding-right: 1em; text-align: center; vertical-align: top\">Height: 32 Width: 32</td>\n",
       "        <td style=\"padding-left: 1em; padding-right: 1em; text-align: center; vertical-align: top\">dog</td>\n",
       "        <td style=\"padding-left: 1em; padding-right: 1em; text-align: center; vertical-align: top\">[0.0, 0.0,<br>0.22067785263061523,  ...</td>\n",
       "        <td style=\"padding-left: 1em; padding-right: 1em; text-align: center; vertical-align: top\">[97.0, 51.0, 31.0, 104.0,<br>58.0, 38.0, 107.0, 61.0, ...</td>\n",
       "    </tr>\n",
       "    <tr>\n",
       "        <td style=\"padding-left: 1em; padding-right: 1em; text-align: center; vertical-align: top\">121</td>\n",
       "        <td style=\"padding-left: 1em; padding-right: 1em; text-align: center; vertical-align: top\">Height: 32 Width: 32</td>\n",
       "        <td style=\"padding-left: 1em; padding-right: 1em; text-align: center; vertical-align: top\">bird</td>\n",
       "        <td style=\"padding-left: 1em; padding-right: 1em; text-align: center; vertical-align: top\">[0.0,<br>0.23753464221954346,  ...</td>\n",
       "        <td style=\"padding-left: 1em; padding-right: 1em; text-align: center; vertical-align: top\">[93.0, 96.0, 88.0, 102.0,<br>106.0, 97.0, 117.0, ...</td>\n",
       "    </tr>\n",
       "    <tr>\n",
       "        <td style=\"padding-left: 1em; padding-right: 1em; text-align: center; vertical-align: top\">136</td>\n",
       "        <td style=\"padding-left: 1em; padding-right: 1em; text-align: center; vertical-align: top\">Height: 32 Width: 32</td>\n",
       "        <td style=\"padding-left: 1em; padding-right: 1em; text-align: center; vertical-align: top\">automobile</td>\n",
       "        <td style=\"padding-left: 1em; padding-right: 1em; text-align: center; vertical-align: top\">[0.0, 0.0, 0.0, 0.0, 0.0,<br>0.0, 7.57378625869751, ...</td>\n",
       "        <td style=\"padding-left: 1em; padding-right: 1em; text-align: center; vertical-align: top\">[35.0, 59.0, 53.0, 36.0,<br>56.0, 56.0, 42.0, 62.0, ...</td>\n",
       "    </tr>\n",
       "    <tr>\n",
       "        <td style=\"padding-left: 1em; padding-right: 1em; text-align: center; vertical-align: top\">138</td>\n",
       "        <td style=\"padding-left: 1em; padding-right: 1em; text-align: center; vertical-align: top\">Height: 32 Width: 32</td>\n",
       "        <td style=\"padding-left: 1em; padding-right: 1em; text-align: center; vertical-align: top\">bird</td>\n",
       "        <td style=\"padding-left: 1em; padding-right: 1em; text-align: center; vertical-align: top\">[0.6589357256889343, 0.0,<br>0.0, 0.0, 0.0, 0.0, ...</td>\n",
       "        <td style=\"padding-left: 1em; padding-right: 1em; text-align: center; vertical-align: top\">[205.0, 193.0, 195.0,<br>200.0, 187.0, 193.0, ...</td>\n",
       "    </tr>\n",
       "</table>\n",
       "[2005 rows x 5 columns]<br/>Note: Only the head of the SFrame is printed.<br/>You can use print_rows(num_rows=m, num_columns=n) to print more rows and columns.\n",
       "</div>"
      ],
      "text/plain": [
       "Columns:\n",
       "\tid\tint\n",
       "\timage\tImage\n",
       "\tlabel\tstr\n",
       "\tdeep_features\tarray\n",
       "\timage_array\tarray\n",
       "\n",
       "Rows: 2005\n",
       "\n",
       "Data:\n",
       "+-----+----------------------+------------+-------------------------------+\n",
       "|  id |        image         |   label    |         deep_features         |\n",
       "+-----+----------------------+------------+-------------------------------+\n",
       "|  24 | Height: 32 Width: 32 |    bird    | [0.24287176132202148, 1.09... |\n",
       "|  33 | Height: 32 Width: 32 |    cat     | [0.5250879526138306, 0.0, ... |\n",
       "|  36 | Height: 32 Width: 32 |    cat     | [0.5660159587860107, 0.0, ... |\n",
       "|  70 | Height: 32 Width: 32 |    dog     | [1.129795789718628, 0.0, 0... |\n",
       "|  90 | Height: 32 Width: 32 |    bird    | [1.7178692817687988, 0.0, ... |\n",
       "|  97 | Height: 32 Width: 32 | automobile | [1.5781855583190918, 0.0, ... |\n",
       "| 107 | Height: 32 Width: 32 |    dog     | [0.0, 0.0, 0.2206778526306... |\n",
       "| 121 | Height: 32 Width: 32 |    bird    | [0.0, 0.23753464221954346,... |\n",
       "| 136 | Height: 32 Width: 32 | automobile | [0.0, 0.0, 0.0, 0.0, 0.0, ... |\n",
       "| 138 | Height: 32 Width: 32 |    bird    | [0.6589357256889343, 0.0, ... |\n",
       "+-----+----------------------+------------+-------------------------------+\n",
       "+-------------------------------+\n",
       "|          image_array          |\n",
       "+-------------------------------+\n",
       "| [73.0, 77.0, 58.0, 71.0, 6... |\n",
       "| [7.0, 5.0, 8.0, 7.0, 5.0, ... |\n",
       "| [169.0, 122.0, 65.0, 131.0... |\n",
       "| [154.0, 179.0, 152.0, 159.... |\n",
       "| [216.0, 195.0, 180.0, 201.... |\n",
       "| [33.0, 44.0, 27.0, 29.0, 4... |\n",
       "| [97.0, 51.0, 31.0, 104.0, ... |\n",
       "| [93.0, 96.0, 88.0, 102.0, ... |\n",
       "| [35.0, 59.0, 53.0, 36.0, 5... |\n",
       "| [205.0, 193.0, 195.0, 200.... |\n",
       "+-------------------------------+\n",
       "[2005 rows x 5 columns]\n",
       "Note: Only the head of the SFrame is printed.\n",
       "You can use print_rows(num_rows=m, num_columns=n) to print more rows and columns."
      ]
     },
     "execution_count": 18,
     "metadata": {},
     "output_type": "execute_result"
    }
   ],
   "source": [
    "image_train"
   ]
  },
  {
   "cell_type": "markdown",
   "metadata": {},
   "source": [
    "# Train an image classifier on raw image pixels"
   ]
  },
  {
   "cell_type": "code",
   "execution_count": 4,
   "metadata": {},
   "outputs": [
    {
     "name": "stdout",
     "output_type": "stream",
     "text": [
      "PROGRESS: Creating a validation set from 5 percent of training data. This may take a while.\n",
      "          You can set ``validation_set=None`` to disable validation tracking.\n",
      "\n"
     ]
    },
    {
     "data": {
      "text/html": [
       "<pre>Logistic regression:</pre>"
      ],
      "text/plain": [
       "Logistic regression:"
      ]
     },
     "metadata": {},
     "output_type": "display_data"
    },
    {
     "data": {
      "text/html": [
       "<pre>--------------------------------------------------------</pre>"
      ],
      "text/plain": [
       "--------------------------------------------------------"
      ]
     },
     "metadata": {},
     "output_type": "display_data"
    },
    {
     "data": {
      "text/html": [
       "<pre>Number of examples          : 1904</pre>"
      ],
      "text/plain": [
       "Number of examples          : 1904"
      ]
     },
     "metadata": {},
     "output_type": "display_data"
    },
    {
     "data": {
      "text/html": [
       "<pre>Number of classes           : 4</pre>"
      ],
      "text/plain": [
       "Number of classes           : 4"
      ]
     },
     "metadata": {},
     "output_type": "display_data"
    },
    {
     "data": {
      "text/html": [
       "<pre>Number of feature columns   : 1</pre>"
      ],
      "text/plain": [
       "Number of feature columns   : 1"
      ]
     },
     "metadata": {},
     "output_type": "display_data"
    },
    {
     "data": {
      "text/html": [
       "<pre>Number of unpacked features : 3072</pre>"
      ],
      "text/plain": [
       "Number of unpacked features : 3072"
      ]
     },
     "metadata": {},
     "output_type": "display_data"
    },
    {
     "data": {
      "text/html": [
       "<pre>Number of coefficients      : 9219</pre>"
      ],
      "text/plain": [
       "Number of coefficients      : 9219"
      ]
     },
     "metadata": {},
     "output_type": "display_data"
    },
    {
     "data": {
      "text/html": [
       "<pre>Starting L-BFGS</pre>"
      ],
      "text/plain": [
       "Starting L-BFGS"
      ]
     },
     "metadata": {},
     "output_type": "display_data"
    },
    {
     "data": {
      "text/html": [
       "<pre>--------------------------------------------------------</pre>"
      ],
      "text/plain": [
       "--------------------------------------------------------"
      ]
     },
     "metadata": {},
     "output_type": "display_data"
    },
    {
     "data": {
      "text/html": [
       "<pre>+-----------+----------+-----------+--------------+-------------------+---------------------+</pre>"
      ],
      "text/plain": [
       "+-----------+----------+-----------+--------------+-------------------+---------------------+"
      ]
     },
     "metadata": {},
     "output_type": "display_data"
    },
    {
     "data": {
      "text/html": [
       "<pre>| Iteration | Passes   | Step size | Elapsed Time | Training Accuracy | Validation Accuracy |</pre>"
      ],
      "text/plain": [
       "| Iteration | Passes   | Step size | Elapsed Time | Training Accuracy | Validation Accuracy |"
      ]
     },
     "metadata": {},
     "output_type": "display_data"
    },
    {
     "data": {
      "text/html": [
       "<pre>+-----------+----------+-----------+--------------+-------------------+---------------------+</pre>"
      ],
      "text/plain": [
       "+-----------+----------+-----------+--------------+-------------------+---------------------+"
      ]
     },
     "metadata": {},
     "output_type": "display_data"
    },
    {
     "data": {
      "text/html": [
       "<pre>| 0         | 5        | 0.036676  | 1.230957     | 0.360294          | 0.316832            |</pre>"
      ],
      "text/plain": [
       "| 0         | 5        | 0.036676  | 1.230957     | 0.360294          | 0.316832            |"
      ]
     },
     "metadata": {},
     "output_type": "display_data"
    },
    {
     "data": {
      "text/html": [
       "<pre>| 1         | 10       | 3.117461  | 1.405815     | 0.405462          | 0.386139            |</pre>"
      ],
      "text/plain": [
       "| 1         | 10       | 3.117461  | 1.405815     | 0.405462          | 0.386139            |"
      ]
     },
     "metadata": {},
     "output_type": "display_data"
    },
    {
     "data": {
      "text/html": [
       "<pre>| 2         | 16       | 1.496938  | 1.596102     | 0.448529          | 0.376238            |</pre>"
      ],
      "text/plain": [
       "| 2         | 16       | 1.496938  | 1.596102     | 0.448529          | 0.376238            |"
      ]
     },
     "metadata": {},
     "output_type": "display_data"
    },
    {
     "data": {
      "text/html": [
       "<pre>| 3         | 21       | 1.214871  | 1.816626     | 0.444853          | 0.405941            |</pre>"
      ],
      "text/plain": [
       "| 3         | 21       | 1.214871  | 1.816626     | 0.444853          | 0.405941            |"
      ]
     },
     "metadata": {},
     "output_type": "display_data"
    },
    {
     "data": {
      "text/html": [
       "<pre>| 4         | 22       | 1.214871  | 1.919980     | 0.449055          | 0.415842            |</pre>"
      ],
      "text/plain": [
       "| 4         | 22       | 1.214871  | 1.919980     | 0.449055          | 0.415842            |"
      ]
     },
     "metadata": {},
     "output_type": "display_data"
    },
    {
     "data": {
      "text/html": [
       "<pre>| 9         | 28       | 1.214871  | 2.560366     | 0.542017          | 0.495050            |</pre>"
      ],
      "text/plain": [
       "| 9         | 28       | 1.214871  | 2.560366     | 0.542017          | 0.495050            |"
      ]
     },
     "metadata": {},
     "output_type": "display_data"
    },
    {
     "data": {
      "text/html": [
       "<pre>+-----------+----------+-----------+--------------+-------------------+---------------------+</pre>"
      ],
      "text/plain": [
       "+-----------+----------+-----------+--------------+-------------------+---------------------+"
      ]
     },
     "metadata": {},
     "output_type": "display_data"
    }
   ],
   "source": [
    "raw_pixel_model = turicreate.logistic_classifier.create(image_train,\n",
    "                                                       target = 'label',\n",
    "                                                       features = ['image_array'])"
   ]
  },
  {
   "cell_type": "markdown",
   "metadata": {},
   "source": [
    "# Make predictions using simple raw pixel model"
   ]
  },
  {
   "cell_type": "code",
   "execution_count": 5,
   "metadata": {},
   "outputs": [
    {
     "data": {
      "text/html": [
       "<html lang=\"en\">                                                     <head>                                                               <style>                                                              .sframe {                                                            font-size: 12px;                                                   font-family: HelveticaNeue;                                        border: 1px solid silver;                                        }                                                                  .sframe thead th {                                                   background: #F7F7F7;                                               font-family: HelveticaNeue-Medium;                                 font-size: 14px;                                                   line-height: 16.8px;                                               padding-top: 16px;                                                 padding-bottom: 16px;                                              padding-left: 10px;                                                padding-right: 38px;                                               border-top: 1px solid #E9E9E9;                                     border-bottom: 1px solid #E9E9E9;                                  white-space: nowrap;                                               overflow: hidden;                                                  text-overflow:ellipsis;                                            text-align:center;                                                 font-weight:normal;                                              }                                                                  .sframe tbody th {                                                   background: #FFFFFF;                                               text-align:left;                                                   font-weight:normal;                                                border-right: 1px solid #E9E9E9;                                 }                                                                  .sframe td {                                                         background: #FFFFFF;                                               padding-left: 10px;                                                padding-right: 38px;                                               padding-top: 14px;                                                 padding-bottom: 14px;                                              border-bottom: 1px solid #E9E9E9;                                  max-height: 0px;                                                   transition: max-height 5s ease-out;                                vertical-align: middle;                                            font-family: HelveticaNeue;                                        font-size: 12px;                                                   line-height: 16.8px;                                               background: #FFFFFF;                                             }                                                                  .sframe tr {                                                         padding-left: 10px;                                                padding-right: 38px;                                               padding-top: 14px;                                                 padding-bottom: 14px;                                              border-bottom: 1px solid #E9E9E9;                                  max-height: 0px;                                                   transition: max-height 5s ease-out;                                vertical-align: middle;                                            font-family: HelveticaNeue;                                        font-size: 12px;                                                   line-height: 16.8px;                                               background: #FFFFFF;                                             }                                                                  .sframe tr:hover {                                                   background: silver;                                              },                                                               </style>                                                         </head>                                                            <body>                                                               <h1>  </h1>                                             <table border=\"1\" class=\"dataframe sframe\">\n",
       "  <thead>\n",
       "    <tr style=\"text-align: right;\">\n",
       "      <th></th>\n",
       "      <th>SArray</th>\n",
       "    </tr>\n",
       "  </thead>\n",
       "  <tbody>\n",
       "    <tr>\n",
       "      <th>0</th>\n",
       "      <td><img src=\"data:image/png;base64,iVBORw0KGgoAAAANSUhEUgAAACAAAAAgCAIAAAD8GO2jAAAJhElEQVR4nAXBWW+c13kA4HPes3z7zPfNDGchqaEoyZLqKonj2E5r2GkCJIDj3vSiF73sT+jvCRAjl4GTNAhQB0WRGEjRyI53ubUWmhVFi+QMOfvybWd5T56HvvNv36UOpeAUQKnaWC2ltIgOHQULjDgdUWKFrBjhFJxFow0iUkK5sbRGSglBh5RSpbS1nDoEYhVibkihLFcEnCsJokciIIxzC0CII1RArZRBxh0wRjgQipqYGohFZIr6lnkKmbJA0VI0vgBOAbizWhNqHLGOUMaAOzTE1c4aahlqxQKgBBkjiFYKYZxAzRCtMZY6Bw4ok475pfXGM50rt91q5mziM0mxEQaBZxAUEMoYE4RodJzbmjAHqD1mCKcEABgQRww6AlTIoH/99no5nc4KwSUQTxleuuDR6dR5Lc0iFfvb1fz8ahl73I6Xw55sJ57POXVGUmKd5YRQylNKqXEIYJRRknnWWoeWUCoFfP/HP/n0/gcXy1luuLHR6dnk5PzcSwf7vUPnJYp7It4x1XZ2dRGmrbPtZYXYS0QomNUFOMJrSFZFaE2dxabBLHcOjaKOODTAoCgW7//H7y6X9eUWTs8Xp6PnzI8ta0SNjghj7gceBR+iqSoH+8OqzE9OLueritH4+k4sLFJrYFKycZn+5k+P/3w0qoALwalzjIGUghKkYE9OT87GMyczFu9BthsMrsl2W1FsZFF/JxZmXS4uEolpJFVViqQ7yeH55aaqCaOcoAPePCxorOXOvEgK5VvnrDOIBsDTtjHO4/ONpXEr611P271Op5vEaZK0VK2r7TqL/Fhyq0pn1Go+I2jLPGcyvFqb0aqynAEncOfbr/EgiZs7r/39W2GyqwxFJlBGCrKke+986ovo2t7BvTjeEcLHWpfr3FnCKP/qwZejs7MwiqIwns3mi+WKUsiSwON8sdUn45VmPpWSh832wY3bpSbDw1sd7ZYnp9oZa8LXfvBPwxuvHH7r2aefP8ji/sXVlDvpCUEc2eb5ajHPIuEIseg6Ozu1NtPFijJI4ogzrqri6fOznTR4YT8B5sUXl5OXvvdq1GwzL7TGMeCnzzcyOyThfhJ1fR4HMvSlR9Du7Q6qqpBSrjebZta+fffFRqPZ7fUpMAoszVqcUcYgCFMqW8fPN2dXOQi/UVWqrrWQYRg1Ij9oCB5z+4uf/fyrh0eT6Vh6AGAOb+wFEVhT9rsdzqFW6satWzdv3WZClFW1zgtjsSyrNG16vt9I242sy4LsbDQFykSxzauiFMLb5JawQBAcpGx6fnxxdnx6fnRy9oQKu3fQ3x32pGStND0YDuM4GezuLddrbfFyMkNHKeNFWZVlSQmJ4qjVaWXt1DrkBB1zOOi0Q997/8v/zwy+0BK+ZyWvJlfPsF4Mbx4y3wsbWae3P5tvV+vCWrKzs8OFVymjtCmr2lhrrK1qZQy0O11KhaSVR411IRecNeMgTQKKZu2i6YJ2Eh5JYUE/u3jWy5oHt16sNPno00fno0USZ0L4Xx1/QwgggVqZbV6mrZZxdHR5FSVNzlwYhlJ6RM9svux1E2CU9rt9TgCrerB/OFHhku5uWbfZaTUbQvjJ9VsvvvJ3b56fXxVFcXl1NRqPBSf9TFTz03w5bjai+XRyOR6t1yujTegHzGmh5qy46Ee6HVAupdfI+sZyj3u3D4effJqsxS2km96eePjow9f/4V8/uP9hnq+1ml6NnxMCWw2c6AwWe8F6NfnasKzXzaw1ZVlVZZELz+BWV+ddUe7GYW1KHsVR1ukYyiuQftxI0+Y3z8dvvPq31RbDZDI6Pzs+OjJWASP5epW0B6tV0Yz9O7fvffzg8WePn73xw58KGT49Pl5tCiRQlduDXhJEQauVOG6McoCmaLZi5ovCOgIwvLZfVGpVoIiG126+PLoYPXr0uNNu+9Lb2927fnjTUVHWKKNWY+fad199YzKZ3b//QV6Uy9XWk17TjQ7i2Z0BZv6au1lEK9jMRoHQnFYUK4qm02oTYFfz/HScg9+/e+/btTbakuW6SLPeC4c3D3YHs8l0Nl0IL846u/NNNZ6ttxUyPxnsH97sdoZJkALwGrkRaAh/evx0+MLf+KBQldz3fd9PkjhuNO7evfOH//p9sRqHre7x2dW1/eHhnZc9yW8Mh8v54uGjr9HZ86Val7ay3npZdPv738yK1rXmzPMIqqWxjvs1Kv7F8dXw3mtIcmoMQbfebJbLabv10ttv/eil79x9999/SylrNrO93f24kTKTt/p8cKhXgf/5gwejLXWi0ey3OzebjPvW0ScuOh5byWhZVYUhBhk/WgVTmzhRgVo5ZABsd9B98/WXfWEPD/b+8Z//5de/fW86Xo1WWFXHkph5aY5Px0Rp17mTdUMkjlKBfohUautWVvhC+pzmtNBCONT8aAm/+5//femg05dRKPig3x90Gjdv7BOnRpPZO79877MvHtaVMoYQB84q6zUsCE4CQ5mBwOeEOFopcEA59xmiq4whKBAYBaUpbEH+8bOjX73/0deT7da6k6dfX+tlvhBbxd/9z48/f3hRGM/yBgQp8ROIm+ABYbamUFlrra4NqYxzAIxBGMo0EIEQVEZWhNpRmaS83dmZL9xosbz/4LHVB4TInf4+Zd5Hn/zfe+9/UGNIuAcAhBBbK4cO0TrnrKOCc8oYYZIzxhhPkpgBgNPWARJBLPb7zaTR5JwxITxTyWeX6zp/9IOXbwfpYFXhn/7ySeWMNtrzfEQsioIQwiinlBBHPMYpcAKcemEQBJxzrc0mzy262mAz6/QGndjn5WbD0VjiAJmvCLva1p89uXi7cBu3OV9svDg2BavqOgwDLnhV1xQYUCY4d8AdAeH5W22VyYMgcM7VBvNKxWkn3ekro548fizQAkFHHDImEHwr4mdXm3fe/f2j08uTi0leayRO+JJJGSZxI20SSrU2da2cI4wxrQ1jlBJXFtsi31Li0qzV6w+ms/nx8fHp0RNiLW+laVVt8lJJFhiDILz//ujLk4uLVa7n29IoEkWxQfQ8j0vpB5YB40JaAgYdReectVorrQLf77TbWWegHNSSl55ELvKq5HVVekBqqwWThhEHAEF8ejEBzox2xmBVVXmeA4DneZEUQeADoPS9IIyVMtP5HInhArJG1Gul/X5rmdeb5WK7Wqat1nQy5XVZeYyGnKAuKSNIEB0iYUY5Z6lzzjmHiACwWCzmumzEUTNrNRj4xLdYc2qZx+qq9jjl1JpiZYp6u5yhVr4nKsb+CkyFkScvikzRAAAAAElFTkSuQmCC\"/></td>\n",
       "    </tr>\n",
       "    <tr>\n",
       "      <th>1</th>\n",
       "      <td><img src=\"data:image/png;base64,iVBORw0KGgoAAAANSUhEUgAAACAAAAAgCAIAAAD8GO2jAAAJc0lEQVR4nC2UWW+cZxlAn+d532+b+eabxXvsxEmalTgJNLQNiJKWshQBQqISqOKGGyQkrlD5MVywXQBCAsoqRAGJrS1pq4bi1EmauHZiO7HH9ng88+3v9nBRdO7PzZEO/vh0ay52s6EI0bRC7sQoSFu05KE2kJaurNEyCSINPMx1rpCBbfKYuXJl/I+/70rsK7+X760PPRMnEMf9omjXRZDnhXDCMT54rpV4LDyXlYpYtAJ0TlfKEsnauHHNuQbjkCRZhHFpcw0GobDtNRJtzljzQENL4BCPrMatm4f9tuULaOM6L9AIQ3LeU9bYCrhQ1hpQCqx2ZQ3MoCxlDnIL2oGQZJEzTZXBGtloQ64eBzZ2wkfeQ/EwCW6N8/VhcRJZBiJk5xwDgxwcqsqRDbySQ5DBeDy2mqoaNKMBLJkKx4bR06jR1k5UFg06ti4iSC2MjCD0Sz/YUoU9rKad7ErbQvAcBJYsknyEzUwEsddQtc0LW2TEBiuNFbJBVIy1Awb0AQ2hIlSMyKDRSWZpZD05H0zMj7a3edifBUjJLTYCj2qIIsqcdUZuU5yzz4OqGhdlbQWAYKos1+gsAaN0TMhogC0CIAKiROkECGuaIg4vfvh9DPdq3WWdjvcnYu9Y0oyZmGRV56iNvL2dacWg2VlLhA7JZ6zZESBZJoECJTELZCQQksBaYOkIPGu41103+Mba+vhgcHZiosXqhIAmGlFZUDVzQYSyPywDEIIBCQMSFtgB8Qc6ZokkEARiSJ4Bx1LUnhWeR76HNtxP4tvbO2v37si6CO3kaeGaZaHQmtp4lgU4B0JakIhCIiOwYGAAD4mBCckDlkSC0DSkmehG2gWhn4GRbLSlUkBqaHdvgKxbHs9VxTRXlq0TWCMzAjlpGaQgjxgkMIAlQHRMBJIIGAnRk36zm1QtzyYNHpS2dtaa3Gon4zpsHmoRR53ji1FkxtLakUJXFNKhAWNRIBMDywBBMgsEx4gAgMDMzMDEFoSRQSb93bQKZbPwGmG3lRybWzyxOHf0Q6I3Ubz6Wr1f9Tc3H966sTPTGXuJ7O930syyZURyaJFliFYCCpQMwIIAwDlwyAzAksbaGs3N0xfPfeqzE/MLFDeDdmIAjG0MdHXyyatPHzu1cv2N7711/fX7D1qt9rUT53lj3Q4eWmRitswyYGZCJEQmApIARjAjOXaF8Jsnz0xeuhQcP7kr2zfvbu32d8vhKM0OD4bFYVF89OpHP/7SM/HT9PbVqy//40/74+3pVu/JY6eKcUY6k2AMs5QgFAEIQIuCUQAdovEANYbtc0t68bE390aH9687P1pZW9tYW22wneq2tgcHNfpPX7uW5ypqTn7ySy/8+9at+5vvr2xt+lGCQbtVV100hplQSkQSJAjAIRuiUnGtpTh68qDVvn7z3Vs3/lsNDooqs04JnwpVQCS9dvPyx5546rlrlbZ6ZC49/rFnnvt8I2izMsurd9ZU+Uh4+yRrQukIwQAxEoJCp+KkN3O2qtzh1Ozb6xu+lL1eMjmRbFmtjI6ThJrh5LHjz1554rnnvzg1v6hqJ0O/qgu/3bx44dLO6q1BmeXd3tLSlamyGN58UzLj/5uC0GFw0On2Tp0qDK8O0pnzFzcf3LUSGVWh9IWlpeeff/70yePz8wu96VkHtH8wAk8YVf70xz969dcvX5w+Xhkaanf+/NInPv152e+/trIsEZCQNLMWchjEN0udr9yLOp1kYnacFw+2d1hCODzMh/lL333hay++qLRmw0Wm6rqWDBLdH3/16+s/+0W0f1Bmcm5mcW7+I089/ez09JzfTIL2lATL7ECjc0ln7omrN/uDdCdVIwV+tnbvjkorFt5Eu+t1G+325PbO6CAdlWWFDrrtJG6GwDw7O3/xwuViOJw+cXryzLlkqicI0iztNkLX7UqwBowtJqaf+urXwytP/e0XL2dr+84YL/Kz0aHOxkGj1QibEzPzImj2B4dZmVsH3aRdGzPu78TNxkeeedZP2lvbD71Ou2YkrV1VOKs3d7b6ZSotc63twrXPPPGNb721sZVMzXnNVWatVV2kKbDWdXZv/f2jj52nwK+MUlpHYTNPsz//8XfLN29MzUx97rNfeOzskpw5kh4Oi7qoq0IpKMbZa//8+9b2liwMukY3Wjzzyhs3dkbDTrcXhAFa3nm4UdW5HwR+GDeSjucHJIRSyhjjCfj9b3/zkx9+n9GgpFvLN7/57e+cObuEIA4GB2U+1vnoX399ZfmN13uSpTImnGq/+p93fv+Dn116/PKpy5eDIDBlXeRjKQX5jaXHn1w8dS6KGkIIY4zneXu7j175w29Cj3oTM6Uq11bf++0vf/7lr7yYpuXgcB9s9e+//WX5zdcDVlEzJgumcnpj674kTtPU9/1OpzMcDrVRQSNu9aZanYk8L6Iomp6ebjabSau18WB9NDpIWq3h8CDP8iRurrxz4/a77xirfd/f2nhw9/ZKQG6qkzSjBmVAu1numE8cO4qIDBxFkbVW+EF3enb26HFmLPN8YWGBiKqqyoui3+9Lz2u2WjMzR5JWlw2nhwerd95Fcoi8ef++KYtW6IeCwDm5a0nVrqgth+ycq6rKMdRay6jZnppdWDw52Z1A4CgMt7cfseMgDKxzKD0h/aTdMW7PlKpIxw/WV09tP8jy6uHmpqorzVyYGvxIjiWBIFEpE1tGr8iruDdx5MSZZLJ3+tz5s2cuLMzOSIKgEQS+xw6BsRm1CD0LNDc/PzUze3t5uaiznf6juyvLeVHu7T5UxuRA4AnwSUIoAdkrsiT0UgFqPDw4GADbMsvv3r69s7EZR5EnPS/yCdAZS4Cj/V2nte/Je3fvChK7e/1a12k6euu1f9WqqstCCqoYmUmSkCT90ItycDsb75dB8GjzvZ3dfj5KWRADfHBZQIFCEhIyAzOB0ao+eewIotzfH8zPzd6+03dGjYYDBiZkRgaBTjhGlF4j9mXgSNZ1vTNOc137QTA1N5eXpXFWkgAAAAZnwVlnjDPGsHLOrqwsnz1zYW5mdmNjtaoKBEYC/ACB6JHfCFGSrEkyoCIZ9tpzjQQDP05abOz99fWyKsMoEkIIdKhLqzUba5S2rtJK5VV96727RHI82mMEL/DZISICghBC+p4fhI5ZmiBg8GR3amZhsTE9rwnysjjcH/jNdtyb9gKfCT1B0hl2jq3TVaWqvKpy58D3I7DOsq5VSgREHjM4Zz0hQ98XKByr/wHDUtiNYbvBngAAAABJRU5ErkJggg==\"/></td>\n",
       "    </tr>\n",
       "    <tr>\n",
       "      <th>2</th>\n",
       "      <td><img src=\"data:image/png;base64,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\"/></td>\n",
       "    </tr>\n",
       "  </tbody>\n",
       "</table>                          </body>                                                          </html>"
      ],
      "text/plain": [
       "<IPython.core.display.HTML object>"
      ]
     },
     "metadata": {},
     "output_type": "display_data"
    }
   ],
   "source": [
    "image_test[0:3]['image'].explore()"
   ]
  },
  {
   "cell_type": "code",
   "execution_count": 6,
   "metadata": {},
   "outputs": [
    {
     "data": {
      "text/plain": [
       "dtype: str\n",
       "Rows: 3\n",
       "['cat', 'automobile', 'cat']"
      ]
     },
     "execution_count": 6,
     "metadata": {},
     "output_type": "execute_result"
    }
   ],
   "source": [
    "image_test[0:3]['label']"
   ]
  },
  {
   "cell_type": "code",
   "execution_count": 7,
   "metadata": {},
   "outputs": [
    {
     "data": {
      "text/plain": [
       "dtype: str\n",
       "Rows: 3\n",
       "['bird', 'cat', 'bird']"
      ]
     },
     "execution_count": 7,
     "metadata": {},
     "output_type": "execute_result"
    }
   ],
   "source": [
    "raw_pixel_model.predict(image_test[0:3])"
   ]
  },
  {
   "cell_type": "markdown",
   "metadata": {},
   "source": [
    "# Evaluate the raw pixel model on the test data"
   ]
  },
  {
   "cell_type": "code",
   "execution_count": 8,
   "metadata": {},
   "outputs": [
    {
     "data": {
      "text/plain": [
       "{'accuracy': 0.49375, 'auc': 0.7338679583333337, 'confusion_matrix': Columns:\n",
       " \ttarget_label\tstr\n",
       " \tpredicted_label\tstr\n",
       " \tcount\tint\n",
       " \n",
       " Rows: 16\n",
       " \n",
       " Data:\n",
       " +--------------+-----------------+-------+\n",
       " | target_label | predicted_label | count |\n",
       " +--------------+-----------------+-------+\n",
       " |     dog      |    automobile   |  122  |\n",
       " |  automobile  |       cat       |  137  |\n",
       " |     cat      |       bird      |  180  |\n",
       " |     dog      |       bird      |  242  |\n",
       " |     cat      |    automobile   |  174  |\n",
       " |     cat      |       cat       |  351  |\n",
       " |     dog      |       dog       |  406  |\n",
       " |     cat      |       dog       |  295  |\n",
       " |     bird     |       cat       |  179  |\n",
       " |  automobile  |       bird      |   96  |\n",
       " +--------------+-----------------+-------+\n",
       " [16 rows x 3 columns]\n",
       " Note: Only the head of the SFrame is printed.\n",
       " You can use print_rows(num_rows=m, num_columns=n) to print more rows and columns., 'f1_score': 0.48877320604627206, 'log_loss': 1.1813538661519318, 'precision': 0.48626710653088817, 'recall': 0.4937500000000001, 'roc_curve': Columns:\n",
       " \tthreshold\tfloat\n",
       " \tfpr\tfloat\n",
       " \ttpr\tfloat\n",
       " \tp\tint\n",
       " \tn\tint\n",
       " \tclass\tint\n",
       " \n",
       " Rows: 400004\n",
       " \n",
       " Data:\n",
       " +-----------+-----+-----+------+------+-------+\n",
       " | threshold | fpr | tpr |  p   |  n   | class |\n",
       " +-----------+-----+-----+------+------+-------+\n",
       " |    0.0    | 1.0 | 1.0 | 1000 | 3000 |   0   |\n",
       " |   1e-05   | 1.0 | 1.0 | 1000 | 3000 |   0   |\n",
       " |   2e-05   | 1.0 | 1.0 | 1000 | 3000 |   0   |\n",
       " |   3e-05   | 1.0 | 1.0 | 1000 | 3000 |   0   |\n",
       " |   4e-05   | 1.0 | 1.0 | 1000 | 3000 |   0   |\n",
       " |   5e-05   | 1.0 | 1.0 | 1000 | 3000 |   0   |\n",
       " |   6e-05   | 1.0 | 1.0 | 1000 | 3000 |   0   |\n",
       " |   7e-05   | 1.0 | 1.0 | 1000 | 3000 |   0   |\n",
       " |   8e-05   | 1.0 | 1.0 | 1000 | 3000 |   0   |\n",
       " |   9e-05   | 1.0 | 1.0 | 1000 | 3000 |   0   |\n",
       " +-----------+-----+-----+------+------+-------+\n",
       " [400004 rows x 6 columns]\n",
       " Note: Only the head of the SFrame is printed.\n",
       " You can use print_rows(num_rows=m, num_columns=n) to print more rows and columns.}"
      ]
     },
     "execution_count": 8,
     "metadata": {},
     "output_type": "execute_result"
    }
   ],
   "source": [
    "raw_pixel_model.evaluate(image_test)"
   ]
  },
  {
   "cell_type": "markdown",
   "metadata": {},
   "source": [
    "# Train image classifier using deep features"
   ]
  },
  {
   "cell_type": "code",
   "execution_count": 16,
   "metadata": {},
   "outputs": [
    {
     "data": {
      "text/plain": [
       "2005"
      ]
     },
     "execution_count": 16,
     "metadata": {},
     "output_type": "execute_result"
    }
   ],
   "source": [
    "len(image_train)"
   ]
  },
  {
   "cell_type": "code",
   "execution_count": 11,
   "metadata": {},
   "outputs": [
    {
     "data": {
      "text/html": [
       "<div style=\"max-height:1000px;max-width:1500px;overflow:auto;\"><table frame=\"box\" rules=\"cols\">\n",
       "    <tr>\n",
       "        <th style=\"padding-left: 1em; padding-right: 1em; text-align: center\">id</th>\n",
       "        <th style=\"padding-left: 1em; padding-right: 1em; text-align: center\">image</th>\n",
       "        <th style=\"padding-left: 1em; padding-right: 1em; text-align: center\">label</th>\n",
       "        <th style=\"padding-left: 1em; padding-right: 1em; text-align: center\">deep_features</th>\n",
       "        <th style=\"padding-left: 1em; padding-right: 1em; text-align: center\">image_array</th>\n",
       "    </tr>\n",
       "    <tr>\n",
       "        <td style=\"padding-left: 1em; padding-right: 1em; text-align: center; vertical-align: top\">24</td>\n",
       "        <td style=\"padding-left: 1em; padding-right: 1em; text-align: center; vertical-align: top\">Height: 32 Width: 32</td>\n",
       "        <td style=\"padding-left: 1em; padding-right: 1em; text-align: center; vertical-align: top\">bird</td>\n",
       "        <td style=\"padding-left: 1em; padding-right: 1em; text-align: center; vertical-align: top\">[0.24287176132202148,<br>1.0954537391662598, 0.0, ...</td>\n",
       "        <td style=\"padding-left: 1em; padding-right: 1em; text-align: center; vertical-align: top\">[73.0, 77.0, 58.0, 71.0,<br>68.0, 50.0, 77.0, 69.0, ...</td>\n",
       "    </tr>\n",
       "    <tr>\n",
       "        <td style=\"padding-left: 1em; padding-right: 1em; text-align: center; vertical-align: top\">33</td>\n",
       "        <td style=\"padding-left: 1em; padding-right: 1em; text-align: center; vertical-align: top\">Height: 32 Width: 32</td>\n",
       "        <td style=\"padding-left: 1em; padding-right: 1em; text-align: center; vertical-align: top\">cat</td>\n",
       "        <td style=\"padding-left: 1em; padding-right: 1em; text-align: center; vertical-align: top\">[0.5250879526138306, 0.0,<br>0.0, 0.0, 0.0, 0.0, ...</td>\n",
       "        <td style=\"padding-left: 1em; padding-right: 1em; text-align: center; vertical-align: top\">[7.0, 5.0, 8.0, 7.0, 5.0,<br>8.0, 5.0, 4.0, 6.0, 7.0, ...</td>\n",
       "    </tr>\n",
       "    <tr>\n",
       "        <td style=\"padding-left: 1em; padding-right: 1em; text-align: center; vertical-align: top\">36</td>\n",
       "        <td style=\"padding-left: 1em; padding-right: 1em; text-align: center; vertical-align: top\">Height: 32 Width: 32</td>\n",
       "        <td style=\"padding-left: 1em; padding-right: 1em; text-align: center; vertical-align: top\">cat</td>\n",
       "        <td style=\"padding-left: 1em; padding-right: 1em; text-align: center; vertical-align: top\">[0.5660159587860107, 0.0,<br>0.0, 0.0, 0.0, 0.0, ...</td>\n",
       "        <td style=\"padding-left: 1em; padding-right: 1em; text-align: center; vertical-align: top\">[169.0, 122.0, 65.0,<br>131.0, 108.0, 75.0, ...</td>\n",
       "    </tr>\n",
       "    <tr>\n",
       "        <td style=\"padding-left: 1em; padding-right: 1em; text-align: center; vertical-align: top\">70</td>\n",
       "        <td style=\"padding-left: 1em; padding-right: 1em; text-align: center; vertical-align: top\">Height: 32 Width: 32</td>\n",
       "        <td style=\"padding-left: 1em; padding-right: 1em; text-align: center; vertical-align: top\">dog</td>\n",
       "        <td style=\"padding-left: 1em; padding-right: 1em; text-align: center; vertical-align: top\">[1.129795789718628, 0.0,<br>0.0, 0.7781944870948792, ...</td>\n",
       "        <td style=\"padding-left: 1em; padding-right: 1em; text-align: center; vertical-align: top\">[154.0, 179.0, 152.0,<br>159.0, 183.0, 157.0, ...</td>\n",
       "    </tr>\n",
       "    <tr>\n",
       "        <td style=\"padding-left: 1em; padding-right: 1em; text-align: center; vertical-align: top\">90</td>\n",
       "        <td style=\"padding-left: 1em; padding-right: 1em; text-align: center; vertical-align: top\">Height: 32 Width: 32</td>\n",
       "        <td style=\"padding-left: 1em; padding-right: 1em; text-align: center; vertical-align: top\">bird</td>\n",
       "        <td style=\"padding-left: 1em; padding-right: 1em; text-align: center; vertical-align: top\">[1.7178692817687988, 0.0,<br>0.0, 0.0, 0.0, 0.0, ...</td>\n",
       "        <td style=\"padding-left: 1em; padding-right: 1em; text-align: center; vertical-align: top\">[216.0, 195.0, 180.0,<br>201.0, 178.0, 160.0, ...</td>\n",
       "    </tr>\n",
       "    <tr>\n",
       "        <td style=\"padding-left: 1em; padding-right: 1em; text-align: center; vertical-align: top\">97</td>\n",
       "        <td style=\"padding-left: 1em; padding-right: 1em; text-align: center; vertical-align: top\">Height: 32 Width: 32</td>\n",
       "        <td style=\"padding-left: 1em; padding-right: 1em; text-align: center; vertical-align: top\">automobile</td>\n",
       "        <td style=\"padding-left: 1em; padding-right: 1em; text-align: center; vertical-align: top\">[1.5781855583190918, 0.0,<br>0.0, 0.0, 0.0, 0.0, ...</td>\n",
       "        <td style=\"padding-left: 1em; padding-right: 1em; text-align: center; vertical-align: top\">[33.0, 44.0, 27.0, 29.0,<br>44.0, 31.0, 32.0, 45.0, ...</td>\n",
       "    </tr>\n",
       "    <tr>\n",
       "        <td style=\"padding-left: 1em; padding-right: 1em; text-align: center; vertical-align: top\">107</td>\n",
       "        <td style=\"padding-left: 1em; padding-right: 1em; text-align: center; vertical-align: top\">Height: 32 Width: 32</td>\n",
       "        <td style=\"padding-left: 1em; padding-right: 1em; text-align: center; vertical-align: top\">dog</td>\n",
       "        <td style=\"padding-left: 1em; padding-right: 1em; text-align: center; vertical-align: top\">[0.0, 0.0,<br>0.22067785263061523,  ...</td>\n",
       "        <td style=\"padding-left: 1em; padding-right: 1em; text-align: center; vertical-align: top\">[97.0, 51.0, 31.0, 104.0,<br>58.0, 38.0, 107.0, 61.0, ...</td>\n",
       "    </tr>\n",
       "    <tr>\n",
       "        <td style=\"padding-left: 1em; padding-right: 1em; text-align: center; vertical-align: top\">121</td>\n",
       "        <td style=\"padding-left: 1em; padding-right: 1em; text-align: center; vertical-align: top\">Height: 32 Width: 32</td>\n",
       "        <td style=\"padding-left: 1em; padding-right: 1em; text-align: center; vertical-align: top\">bird</td>\n",
       "        <td style=\"padding-left: 1em; padding-right: 1em; text-align: center; vertical-align: top\">[0.0,<br>0.23753464221954346,  ...</td>\n",
       "        <td style=\"padding-left: 1em; padding-right: 1em; text-align: center; vertical-align: top\">[93.0, 96.0, 88.0, 102.0,<br>106.0, 97.0, 117.0, ...</td>\n",
       "    </tr>\n",
       "    <tr>\n",
       "        <td style=\"padding-left: 1em; padding-right: 1em; text-align: center; vertical-align: top\">136</td>\n",
       "        <td style=\"padding-left: 1em; padding-right: 1em; text-align: center; vertical-align: top\">Height: 32 Width: 32</td>\n",
       "        <td style=\"padding-left: 1em; padding-right: 1em; text-align: center; vertical-align: top\">automobile</td>\n",
       "        <td style=\"padding-left: 1em; padding-right: 1em; text-align: center; vertical-align: top\">[0.0, 0.0, 0.0, 0.0, 0.0,<br>0.0, 7.57378625869751, ...</td>\n",
       "        <td style=\"padding-left: 1em; padding-right: 1em; text-align: center; vertical-align: top\">[35.0, 59.0, 53.0, 36.0,<br>56.0, 56.0, 42.0, 62.0, ...</td>\n",
       "    </tr>\n",
       "    <tr>\n",
       "        <td style=\"padding-left: 1em; padding-right: 1em; text-align: center; vertical-align: top\">138</td>\n",
       "        <td style=\"padding-left: 1em; padding-right: 1em; text-align: center; vertical-align: top\">Height: 32 Width: 32</td>\n",
       "        <td style=\"padding-left: 1em; padding-right: 1em; text-align: center; vertical-align: top\">bird</td>\n",
       "        <td style=\"padding-left: 1em; padding-right: 1em; text-align: center; vertical-align: top\">[0.6589357256889343, 0.0,<br>0.0, 0.0, 0.0, 0.0, ...</td>\n",
       "        <td style=\"padding-left: 1em; padding-right: 1em; text-align: center; vertical-align: top\">[205.0, 193.0, 195.0,<br>200.0, 187.0, 193.0, ...</td>\n",
       "    </tr>\n",
       "</table>\n",
       "[2005 rows x 5 columns]<br/>Note: Only the head of the SFrame is printed.<br/>You can use print_rows(num_rows=m, num_columns=n) to print more rows and columns.\n",
       "</div>"
      ],
      "text/plain": [
       "Columns:\n",
       "\tid\tint\n",
       "\timage\tImage\n",
       "\tlabel\tstr\n",
       "\tdeep_features\tarray\n",
       "\timage_array\tarray\n",
       "\n",
       "Rows: 2005\n",
       "\n",
       "Data:\n",
       "+-----+----------------------+------------+-------------------------------+\n",
       "|  id |        image         |   label    |         deep_features         |\n",
       "+-----+----------------------+------------+-------------------------------+\n",
       "|  24 | Height: 32 Width: 32 |    bird    | [0.24287176132202148, 1.09... |\n",
       "|  33 | Height: 32 Width: 32 |    cat     | [0.5250879526138306, 0.0, ... |\n",
       "|  36 | Height: 32 Width: 32 |    cat     | [0.5660159587860107, 0.0, ... |\n",
       "|  70 | Height: 32 Width: 32 |    dog     | [1.129795789718628, 0.0, 0... |\n",
       "|  90 | Height: 32 Width: 32 |    bird    | [1.7178692817687988, 0.0, ... |\n",
       "|  97 | Height: 32 Width: 32 | automobile | [1.5781855583190918, 0.0, ... |\n",
       "| 107 | Height: 32 Width: 32 |    dog     | [0.0, 0.0, 0.2206778526306... |\n",
       "| 121 | Height: 32 Width: 32 |    bird    | [0.0, 0.23753464221954346,... |\n",
       "| 136 | Height: 32 Width: 32 | automobile | [0.0, 0.0, 0.0, 0.0, 0.0, ... |\n",
       "| 138 | Height: 32 Width: 32 |    bird    | [0.6589357256889343, 0.0, ... |\n",
       "+-----+----------------------+------------+-------------------------------+\n",
       "+-------------------------------+\n",
       "|          image_array          |\n",
       "+-------------------------------+\n",
       "| [73.0, 77.0, 58.0, 71.0, 6... |\n",
       "| [7.0, 5.0, 8.0, 7.0, 5.0, ... |\n",
       "| [169.0, 122.0, 65.0, 131.0... |\n",
       "| [154.0, 179.0, 152.0, 159.... |\n",
       "| [216.0, 195.0, 180.0, 201.... |\n",
       "| [33.0, 44.0, 27.0, 29.0, 4... |\n",
       "| [97.0, 51.0, 31.0, 104.0, ... |\n",
       "| [93.0, 96.0, 88.0, 102.0, ... |\n",
       "| [35.0, 59.0, 53.0, 36.0, 5... |\n",
       "| [205.0, 193.0, 195.0, 200.... |\n",
       "+-------------------------------+\n",
       "[2005 rows x 5 columns]\n",
       "Note: Only the head of the SFrame is printed.\n",
       "You can use print_rows(num_rows=m, num_columns=n) to print more rows and columns."
      ]
     },
     "execution_count": 11,
     "metadata": {},
     "output_type": "execute_result"
    }
   ],
   "source": [
    "image_train"
   ]
  },
  {
   "cell_type": "markdown",
   "metadata": {},
   "source": [
    "# Given the deep features, train a logistic classifier"
   ]
  },
  {
   "cell_type": "code",
   "execution_count": 12,
   "metadata": {
    "scrolled": true
   },
   "outputs": [
    {
     "name": "stdout",
     "output_type": "stream",
     "text": [
      "PROGRESS: Creating a validation set from 5 percent of training data. This may take a while.\n",
      "          You can set ``validation_set=None`` to disable validation tracking.\n",
      "\n"
     ]
    },
    {
     "data": {
      "text/html": [
       "<pre>Logistic regression:</pre>"
      ],
      "text/plain": [
       "Logistic regression:"
      ]
     },
     "metadata": {},
     "output_type": "display_data"
    },
    {
     "data": {
      "text/html": [
       "<pre>--------------------------------------------------------</pre>"
      ],
      "text/plain": [
       "--------------------------------------------------------"
      ]
     },
     "metadata": {},
     "output_type": "display_data"
    },
    {
     "data": {
      "text/html": [
       "<pre>Number of examples          : 1904</pre>"
      ],
      "text/plain": [
       "Number of examples          : 1904"
      ]
     },
     "metadata": {},
     "output_type": "display_data"
    },
    {
     "data": {
      "text/html": [
       "<pre>Number of classes           : 4</pre>"
      ],
      "text/plain": [
       "Number of classes           : 4"
      ]
     },
     "metadata": {},
     "output_type": "display_data"
    },
    {
     "data": {
      "text/html": [
       "<pre>Number of feature columns   : 1</pre>"
      ],
      "text/plain": [
       "Number of feature columns   : 1"
      ]
     },
     "metadata": {},
     "output_type": "display_data"
    },
    {
     "data": {
      "text/html": [
       "<pre>Number of unpacked features : 4096</pre>"
      ],
      "text/plain": [
       "Number of unpacked features : 4096"
      ]
     },
     "metadata": {},
     "output_type": "display_data"
    },
    {
     "data": {
      "text/html": [
       "<pre>Number of coefficients      : 12291</pre>"
      ],
      "text/plain": [
       "Number of coefficients      : 12291"
      ]
     },
     "metadata": {},
     "output_type": "display_data"
    },
    {
     "data": {
      "text/html": [
       "<pre>Starting L-BFGS</pre>"
      ],
      "text/plain": [
       "Starting L-BFGS"
      ]
     },
     "metadata": {},
     "output_type": "display_data"
    },
    {
     "data": {
      "text/html": [
       "<pre>--------------------------------------------------------</pre>"
      ],
      "text/plain": [
       "--------------------------------------------------------"
      ]
     },
     "metadata": {},
     "output_type": "display_data"
    },
    {
     "data": {
      "text/html": [
       "<pre>+-----------+----------+-----------+--------------+-------------------+---------------------+</pre>"
      ],
      "text/plain": [
       "+-----------+----------+-----------+--------------+-------------------+---------------------+"
      ]
     },
     "metadata": {},
     "output_type": "display_data"
    },
    {
     "data": {
      "text/html": [
       "<pre>| Iteration | Passes   | Step size | Elapsed Time | Training Accuracy | Validation Accuracy |</pre>"
      ],
      "text/plain": [
       "| Iteration | Passes   | Step size | Elapsed Time | Training Accuracy | Validation Accuracy |"
      ]
     },
     "metadata": {},
     "output_type": "display_data"
    },
    {
     "data": {
      "text/html": [
       "<pre>+-----------+----------+-----------+--------------+-------------------+---------------------+</pre>"
      ],
      "text/plain": [
       "+-----------+----------+-----------+--------------+-------------------+---------------------+"
      ]
     },
     "metadata": {},
     "output_type": "display_data"
    },
    {
     "data": {
      "text/html": [
       "<pre>| 0         | 3        | 0.500000  | 0.196324     | 0.721639          | 0.732673            |</pre>"
      ],
      "text/plain": [
       "| 0         | 3        | 0.500000  | 0.196324     | 0.721639          | 0.732673            |"
      ]
     },
     "metadata": {},
     "output_type": "display_data"
    },
    {
     "data": {
      "text/html": [
       "<pre>| 1         | 6        | 0.250000  | 0.424204     | 0.767332          | 0.831683            |</pre>"
      ],
      "text/plain": [
       "| 1         | 6        | 0.250000  | 0.424204     | 0.767332          | 0.831683            |"
      ]
     },
     "metadata": {},
     "output_type": "display_data"
    },
    {
     "data": {
      "text/html": [
       "<pre>| 2         | 8        | 0.288320  | 0.660195     | 0.767332          | 0.841584            |</pre>"
      ],
      "text/plain": [
       "| 2         | 8        | 0.288320  | 0.660195     | 0.767332          | 0.841584            |"
      ]
     },
     "metadata": {},
     "output_type": "display_data"
    },
    {
     "data": {
      "text/html": [
       "<pre>| 3         | 13       | 0.576639  | 1.075946     | 0.790441          | 0.851485            |</pre>"
      ],
      "text/plain": [
       "| 3         | 13       | 0.576639  | 1.075946     | 0.790441          | 0.851485            |"
      ]
     },
     "metadata": {},
     "output_type": "display_data"
    },
    {
     "data": {
      "text/html": [
       "<pre>| 4         | 14       | 0.720799  | 1.242499     | 0.803046          | 0.891089            |</pre>"
      ],
      "text/plain": [
       "| 4         | 14       | 0.720799  | 1.242499     | 0.803046          | 0.891089            |"
      ]
     },
     "metadata": {},
     "output_type": "display_data"
    },
    {
     "data": {
      "text/html": [
       "<pre>| 9         | 20       | 1.000000  | 2.081048     | 0.909664          | 0.861386            |</pre>"
      ],
      "text/plain": [
       "| 9         | 20       | 1.000000  | 2.081048     | 0.909664          | 0.861386            |"
      ]
     },
     "metadata": {},
     "output_type": "display_data"
    },
    {
     "data": {
      "text/html": [
       "<pre>+-----------+----------+-----------+--------------+-------------------+---------------------+</pre>"
      ],
      "text/plain": [
       "+-----------+----------+-----------+--------------+-------------------+---------------------+"
      ]
     },
     "metadata": {},
     "output_type": "display_data"
    }
   ],
   "source": [
    "deep_features_model = turicreate.logistic_classifier.create(image_train,\n",
    "                                                           target='label',\n",
    "                                                           features = ['deep_features'])"
   ]
  },
  {
   "cell_type": "markdown",
   "metadata": {},
   "source": [
    "# Apply the deep features classifier on the first few images"
   ]
  },
  {
   "cell_type": "code",
   "execution_count": 13,
   "metadata": {},
   "outputs": [
    {
     "data": {
      "text/html": [
       "<html lang=\"en\">                                                     <head>                                                               <style>                                                              .sframe {                                                            font-size: 12px;                                                   font-family: HelveticaNeue;                                        border: 1px solid silver;                                        }                                                                  .sframe thead th {                                                   background: #F7F7F7;                                               font-family: HelveticaNeue-Medium;                                 font-size: 14px;                                                   line-height: 16.8px;                                               padding-top: 16px;                                                 padding-bottom: 16px;                                              padding-left: 10px;                                                padding-right: 38px;                                               border-top: 1px solid #E9E9E9;                                     border-bottom: 1px solid #E9E9E9;                                  white-space: nowrap;                                               overflow: hidden;                                                  text-overflow:ellipsis;                                            text-align:center;                                                 font-weight:normal;                                              }                                                                  .sframe tbody th {                                                   background: #FFFFFF;                                               text-align:left;                                                   font-weight:normal;                                                border-right: 1px solid #E9E9E9;                                 }                                                                  .sframe td {                                                         background: #FFFFFF;                                               padding-left: 10px;                                                padding-right: 38px;                                               padding-top: 14px;                                                 padding-bottom: 14px;                                              border-bottom: 1px solid #E9E9E9;                                  max-height: 0px;                                                   transition: max-height 5s ease-out;                                vertical-align: middle;                                            font-family: HelveticaNeue;                                        font-size: 12px;                                                   line-height: 16.8px;                                               background: #FFFFFF;                                             }                                                                  .sframe tr {                                                         padding-left: 10px;                                                padding-right: 38px;                                               padding-top: 14px;                                                 padding-bottom: 14px;                                              border-bottom: 1px solid #E9E9E9;                                  max-height: 0px;                                                   transition: max-height 5s ease-out;                                vertical-align: middle;                                            font-family: HelveticaNeue;                                        font-size: 12px;                                                   line-height: 16.8px;                                               background: #FFFFFF;                                             }                                                                  .sframe tr:hover {                                                   background: silver;                                              },                                                               </style>                                                         </head>                                                            <body>                                                               <h1>  </h1>                                             <table border=\"1\" class=\"dataframe sframe\">\n",
       "  <thead>\n",
       "    <tr style=\"text-align: right;\">\n",
       "      <th></th>\n",
       "      <th>SArray</th>\n",
       "    </tr>\n",
       "  </thead>\n",
       "  <tbody>\n",
       "    <tr>\n",
       "      <th>0</th>\n",
       "      <td><img src=\"data:image/png;base64,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\"/></td>\n",
       "    </tr>\n",
       "    <tr>\n",
       "      <th>1</th>\n",
       "      <td><img src=\"data:image/png;base64,iVBORw0KGgoAAAANSUhEUgAAACAAAAAgCAIAAAD8GO2jAAAJc0lEQVR4nC2UWW+cZxlAn+d532+b+eabxXvsxEmalTgJNLQNiJKWshQBQqISqOKGGyQkrlD5MVywXQBCAsoqRAGJrS1pq4bi1EmauHZiO7HH9ng88+3v9nBRdO7PzZEO/vh0ay52s6EI0bRC7sQoSFu05KE2kJaurNEyCSINPMx1rpCBbfKYuXJl/I+/70rsK7+X760PPRMnEMf9omjXRZDnhXDCMT54rpV4LDyXlYpYtAJ0TlfKEsnauHHNuQbjkCRZhHFpcw0GobDtNRJtzljzQENL4BCPrMatm4f9tuULaOM6L9AIQ3LeU9bYCrhQ1hpQCqx2ZQ3MoCxlDnIL2oGQZJEzTZXBGtloQ64eBzZ2wkfeQ/EwCW6N8/VhcRJZBiJk5xwDgxwcqsqRDbySQ5DBeDy2mqoaNKMBLJkKx4bR06jR1k5UFg06ti4iSC2MjCD0Sz/YUoU9rKad7ErbQvAcBJYsknyEzUwEsddQtc0LW2TEBiuNFbJBVIy1Awb0AQ2hIlSMyKDRSWZpZD05H0zMj7a3edifBUjJLTYCj2qIIsqcdUZuU5yzz4OqGhdlbQWAYKos1+gsAaN0TMhogC0CIAKiROkECGuaIg4vfvh9DPdq3WWdjvcnYu9Y0oyZmGRV56iNvL2dacWg2VlLhA7JZ6zZESBZJoECJTELZCQQksBaYOkIPGu41103+Mba+vhgcHZiosXqhIAmGlFZUDVzQYSyPywDEIIBCQMSFtgB8Qc6ZokkEARiSJ4Bx1LUnhWeR76HNtxP4tvbO2v37si6CO3kaeGaZaHQmtp4lgU4B0JakIhCIiOwYGAAD4mBCckDlkSC0DSkmehG2gWhn4GRbLSlUkBqaHdvgKxbHs9VxTRXlq0TWCMzAjlpGaQgjxgkMIAlQHRMBJIIGAnRk36zm1QtzyYNHpS2dtaa3Gon4zpsHmoRR53ji1FkxtLakUJXFNKhAWNRIBMDywBBMgsEx4gAgMDMzMDEFoSRQSb93bQKZbPwGmG3lRybWzyxOHf0Q6I3Ubz6Wr1f9Tc3H966sTPTGXuJ7O930syyZURyaJFliFYCCpQMwIIAwDlwyAzAksbaGs3N0xfPfeqzE/MLFDeDdmIAjG0MdHXyyatPHzu1cv2N7711/fX7D1qt9rUT53lj3Q4eWmRitswyYGZCJEQmApIARjAjOXaF8Jsnz0xeuhQcP7kr2zfvbu32d8vhKM0OD4bFYVF89OpHP/7SM/HT9PbVqy//40/74+3pVu/JY6eKcUY6k2AMs5QgFAEIQIuCUQAdovEANYbtc0t68bE390aH9687P1pZW9tYW22wneq2tgcHNfpPX7uW5ypqTn7ySy/8+9at+5vvr2xt+lGCQbtVV100hplQSkQSJAjAIRuiUnGtpTh68qDVvn7z3Vs3/lsNDooqs04JnwpVQCS9dvPyx5546rlrlbZ6ZC49/rFnnvt8I2izMsurd9ZU+Uh4+yRrQukIwQAxEoJCp+KkN3O2qtzh1Ozb6xu+lL1eMjmRbFmtjI6ThJrh5LHjz1554rnnvzg1v6hqJ0O/qgu/3bx44dLO6q1BmeXd3tLSlamyGN58UzLj/5uC0GFw0On2Tp0qDK8O0pnzFzcf3LUSGVWh9IWlpeeff/70yePz8wu96VkHtH8wAk8YVf70xz969dcvX5w+Xhkaanf+/NInPv152e+/trIsEZCQNLMWchjEN0udr9yLOp1kYnacFw+2d1hCODzMh/lL333hay++qLRmw0Wm6rqWDBLdH3/16+s/+0W0f1Bmcm5mcW7+I089/ez09JzfTIL2lATL7ECjc0ln7omrN/uDdCdVIwV+tnbvjkorFt5Eu+t1G+325PbO6CAdlWWFDrrtJG6GwDw7O3/xwuViOJw+cXryzLlkqicI0iztNkLX7UqwBowtJqaf+urXwytP/e0XL2dr+84YL/Kz0aHOxkGj1QibEzPzImj2B4dZmVsH3aRdGzPu78TNxkeeedZP2lvbD71Ou2YkrV1VOKs3d7b6ZSotc63twrXPPPGNb721sZVMzXnNVWatVV2kKbDWdXZv/f2jj52nwK+MUlpHYTNPsz//8XfLN29MzUx97rNfeOzskpw5kh4Oi7qoq0IpKMbZa//8+9b2liwMukY3Wjzzyhs3dkbDTrcXhAFa3nm4UdW5HwR+GDeSjucHJIRSyhjjCfj9b3/zkx9+n9GgpFvLN7/57e+cObuEIA4GB2U+1vnoX399ZfmN13uSpTImnGq/+p93fv+Dn116/PKpy5eDIDBlXeRjKQX5jaXHn1w8dS6KGkIIY4zneXu7j175w29Cj3oTM6Uq11bf++0vf/7lr7yYpuXgcB9s9e+//WX5zdcDVlEzJgumcnpj674kTtPU9/1OpzMcDrVRQSNu9aZanYk8L6Iomp6ebjabSau18WB9NDpIWq3h8CDP8iRurrxz4/a77xirfd/f2nhw9/ZKQG6qkzSjBmVAu1numE8cO4qIDBxFkbVW+EF3enb26HFmLPN8YWGBiKqqyoui3+9Lz2u2WjMzR5JWlw2nhwerd95Fcoi8ef++KYtW6IeCwDm5a0nVrqgth+ycq6rKMdRay6jZnppdWDw52Z1A4CgMt7cfseMgDKxzKD0h/aTdMW7PlKpIxw/WV09tP8jy6uHmpqorzVyYGvxIjiWBIFEpE1tGr8iruDdx5MSZZLJ3+tz5s2cuLMzOSIKgEQS+xw6BsRm1CD0LNDc/PzUze3t5uaiznf6juyvLeVHu7T5UxuRA4AnwSUIoAdkrsiT0UgFqPDw4GADbMsvv3r69s7EZR5EnPS/yCdAZS4Cj/V2nte/Je3fvChK7e/1a12k6euu1f9WqqstCCqoYmUmSkCT90ItycDsb75dB8GjzvZ3dfj5KWRADfHBZQIFCEhIyAzOB0ao+eewIotzfH8zPzd6+03dGjYYDBiZkRgaBTjhGlF4j9mXgSNZ1vTNOc137QTA1N5eXpXFWkgAAAAZnwVlnjDPGsHLOrqwsnz1zYW5mdmNjtaoKBEYC/ACB6JHfCFGSrEkyoCIZ9tpzjQQDP05abOz99fWyKsMoEkIIdKhLqzUba5S2rtJK5VV96727RHI82mMEL/DZISICghBC+p4fhI5ZmiBg8GR3amZhsTE9rwnysjjcH/jNdtyb9gKfCT1B0hl2jq3TVaWqvKpy58D3I7DOsq5VSgREHjM4Zz0hQ98XKByr/wHDUtiNYbvBngAAAABJRU5ErkJggg==\"/></td>\n",
       "    </tr>\n",
       "    <tr>\n",
       "      <th>2</th>\n",
       "      <td><img src=\"data:image/png;base64,iVBORw0KGgoAAAANSUhEUgAAACAAAAAgCAIAAAD8GO2jAAAI+0lEQVR4nC3V2Y5l11kA4P9fw957rT2cserU0KOdJk6IiJRcRIoFOFzBPULimmdDURAS74EUJFt2EmIbd3d1dVWd+Zw9rLXX9HMBT/BdfrharAKTzJufvbz4l3/8h6sp8+C8z+0YGRuanEOiREAEBICcxUjH8/jt+6fvn/aTyxue2F++efaTT1Zo2gwxECFDjoxiohgTJQGIQASIu+O5N2Pz4qp3nafMBXQJo/eNLjjnKaUYQpI5KyqlU2ly92R/eL9+tVrc3txUpUaBGTLPYmKEBClECiERCQBAIMb5abAft/uff3btQhoceT6BcnpqH8aBphMFmJAlyHPM1ayqflZetJb+8/f/VahidrHgGQmBnADIJwxIQBgj8hTD/wOIzAb48LTrzTj0gx1IXcyg1qmQh/XHgoppXUqOImcAJIklcFMlnl0tXv3odb2YC7LkeHABIjLiAhFEShCJRcEQgYgAE5P3T/vd8eTHwfRpciOLZs6w6nv/uDm0Z1OpbLGoVSGCc4PpgdHl7eXNJy9QZ1IIRjpYD85BCNGHFEKEEL0XiCgQCRGQP+2P9+vtxSTjmNzQL3KV6UlZ7R4+PGyGM6ewul42TQURD+eOVc3N6kpPJ0/HQ61EWRSyUIHLTAoO4EfHYwreCcEg+ICMM8LOun3ib16+zlufeOTIGEFdVUrrw3atcrnZdW8/rJuq7o2dX1z89NPP5otlN6whZZxmmJBJhEwCei4dQ1Cciy+++OVXX359OBylLP727z7/xV//TV1h5+/8OHrvkafptPn0R28ywWN0Qz+0mz3jOSKnQDmTGcuS91WzuL167Z1huRyje3x6KzNUSslMiX/657//4je//PrrPxSF/tWvP6+bKrqzNeP9/Z2unl3drmSWLZfLUuX73XrztIkrAgAhBOP8dD6rmQaMuRbEfWLOh2533O4Od1qrqn4hMylms6oq1fJyXuQqVxXjjGEWY/J+HEzb9WUmGUPUSo+6PObtqb2fTKcJcAxxdH60ZrGcNrPS0ygVAoXObgMNnRkPJ63LUkipKHlVgBR5nhcyR3s2zvmLi0VVK6KUCBlDa+0wDKfzmcuMACJAijGm1LZdOVVZLjnPAF1KTCqGfQKAU3+oey04Y0opROFd5By5gBijKnSh5tNZzXiRUgSC0/G0Xq8Ph0NelM1kaoxhjAFw79L52DkfVcYSYEqgdAUMY/LWdQ/r9wKZTwm4SCF45ylEij4sFxfWsa47iywO/YBEjLMsy6q60fX06ub68fGxKkvGRfAEIEOgmAgF51LV1bxp9ud2l1IMMQghmXVjopSCF4Jv7u5j76+fv373uH94uO+GAIA3NzcQyRO7Xj1bXFw48EWjdF31pmcCrrMriAmTBULJ8qZc3FwlY4KQfDlfCmSSmEcEjCxLcng4mkP/F29+Pl+yyRTb3hGy+WzRnvvhw8ft08eryxVJBB5CMLP5DHkKzmUcBYQYGSWmMh31TBezsil1WTFg6ENIQMgZS6zk1dh6RnI2vyzryeVqVdf1drsNMT5/8fJ6dXHYPeqMTXVm2+OsVpLjfrN9+93342AwEgKFNB7P+6rRzaRCBowLkYgOp1PX911rJnqBSe52p0KVPtBms00pccG7rivy/Ob2+vvv/rT9eLea1L4/P7x/S27cPT7+27/+9j9+9+8f3t750Xbd8bDfIMQiZ4wlgZyJXJ7bNvaJJF5W009//NO2N8r5+WJeNxOl1GazRTgwxrwLyOj+/bvb1SJDCKNZTl6Yo56V1R+//KZtx8/+6idKZy661e2VBIaMC2QsL4pCq8EaWWnMymVVHdN4bA/L+bKuykLpsqy0qtu27zFd3t6+/+6PT49rKXMhpDM9je7Nq08W09PT9vTuT/8znTejt9G6ShbNbCKAMS7EfLHIqKumU4KcAk11+Xjer5/ui3ySF0qKXJdacGHG7vbV6xTser19/vJVoavten0+HCaVVlkxa3CqpyUvovGPPzx0u/OrH38iGBOS51pXg3QuhqzgNhh0YVrpcbCBRt/a86ldXl4pmc+bppreXC/n337zVVVWgxl22621o9alkGq1WpRaj+MwdCMgtWH49pvvBEVgIPNMi7zrulaJqtDaDr0SWT1beIGP7z4ctg+iYInniYTNuJDZ1c2NN93641079HUzgUzJTOVFYaw5t60LsShyIny8W4sYIxFIKbJCHrZtrKKeTFWuUwgMGUtRMaFkFv1IyGOI7enAKDKGp9Px6elBN5OqrjmTiQgAATER5Xne90PbtsYMgghC8IwzrTICH2JIwLKsQElE0XVnzfKr+RKqLAPOMYHgKQTr/eFwYFzUVSWECD4Skdaaki+KIqV0Op0IqKpqkVKKKcbkgMVc8YTOxxi9R0gMYrve3//396vn19XFxFvDkYg8Uezbc4xJlyUXIoQwGMtQWGtTIs5527ZFUeR57p0XRJBSimm0ts8KjGgjOSLmncHk/vzVH/78+y9/9ZvPm9t5jD7YkQCMMX3fAaL3MaU0jmMIgSFuNhtKIQQHAIyxruuMMQIAUgoxeufM6NrIKNJVJjUBumEUCRVmPJKzY9+e/WABsO1aMwx933vvY4gpkRlMnuvz+Tz0rdbFdDpNKWmt8zwXQJRiDN4755y3jpIZrc4ZJx5SvH55u6ybxbPlfr/t2gO5YOxorbXOb7abuq59CDGmGOM4WmP6ELy1YK1tmiYvCjeOIgXnjPXBkwc3jiGG0UFIAMgSSHlZ62XZmb49HUzXIqF3wdrxcD4ZaxbLZfABAIUQROn/lkOWM84JIMZgrBXn8/lwOBBEmYkY4+nUDRPjqsAxMsajYGYcjR/H0Y12lDwzdux7s98fpcwAoO8HKWVRFIhIRHmRa62JqG1bInLOi/VuczoeCyVrWRVFMXzcPD08LptVniUgkDKDEDab7f3bd+RdnivkfLDWh7iYzUbnKSUpJefM2lEpJaWMMZ5PJyGlKoqyVGKz3R0OO10Wg+m5DHawH7v724vnTZM7O1o77DdPb39493B3Z7qurOpmOhu901WdAI1zAhARnQ8pJUQ8Ho8hhLwoaq0zKb33/wsZJes/eaoYwAAAAABJRU5ErkJggg==\"/></td>\n",
       "    </tr>\n",
       "  </tbody>\n",
       "</table>                          </body>                                                          </html>"
      ],
      "text/plain": [
       "<IPython.core.display.HTML object>"
      ]
     },
     "metadata": {},
     "output_type": "display_data"
    }
   ],
   "source": [
    "image_test[0:3]['image'].explore()"
   ]
  },
  {
   "cell_type": "code",
   "execution_count": 14,
   "metadata": {},
   "outputs": [
    {
     "data": {
      "text/plain": [
       "dtype: str\n",
       "Rows: 3\n",
       "['cat', 'automobile', 'cat']"
      ]
     },
     "execution_count": 14,
     "metadata": {},
     "output_type": "execute_result"
    }
   ],
   "source": [
    "deep_features_model.predict(image_test[0:3])"
   ]
  },
  {
   "cell_type": "markdown",
   "metadata": {},
   "source": [
    "# Quantitatively evaluate deep features classifier on test data"
   ]
  },
  {
   "cell_type": "code",
   "execution_count": 15,
   "metadata": {},
   "outputs": [
    {
     "data": {
      "text/plain": [
       "{'accuracy': 0.79225, 'auc': 0.9425287500000019, 'confusion_matrix': Columns:\n",
       " \ttarget_label\tstr\n",
       " \tpredicted_label\tstr\n",
       " \tcount\tint\n",
       " \n",
       " Rows: 16\n",
       " \n",
       " Data:\n",
       " +--------------+-----------------+-------+\n",
       " | target_label | predicted_label | count |\n",
       " +--------------+-----------------+-------+\n",
       " |     dog      |       cat       |  242  |\n",
       " |     bird     |       bird      |  798  |\n",
       " |  automobile  |       bird      |   16  |\n",
       " |  automobile  |    automobile   |  955  |\n",
       " |     bird     |    automobile   |   14  |\n",
       " |     cat      |       cat       |  714  |\n",
       " |     bird     |       cat       |  132  |\n",
       " |     cat      |       dog       |  207  |\n",
       " |     dog      |       dog       |  702  |\n",
       " |     dog      |    automobile   |   12  |\n",
       " +--------------+-----------------+-------+\n",
       " [16 rows x 3 columns]\n",
       " Note: Only the head of the SFrame is printed.\n",
       " You can use print_rows(num_rows=m, num_columns=n) to print more rows and columns., 'f1_score': 0.7939653962862367, 'log_loss': 0.6079500656478402, 'precision': 0.7974366278042748, 'recall': 0.79225, 'roc_curve': Columns:\n",
       " \tthreshold\tfloat\n",
       " \tfpr\tfloat\n",
       " \ttpr\tfloat\n",
       " \tp\tint\n",
       " \tn\tint\n",
       " \tclass\tint\n",
       " \n",
       " Rows: 400004\n",
       " \n",
       " Data:\n",
       " +-----------+--------------------+-----+------+------+-------+\n",
       " | threshold |        fpr         | tpr |  p   |  n   | class |\n",
       " +-----------+--------------------+-----+------+------+-------+\n",
       " |    0.0    |        1.0         | 1.0 | 1000 | 3000 |   0   |\n",
       " |   1e-05   | 0.8706666666666667 | 1.0 | 1000 | 3000 |   0   |\n",
       " |   2e-05   | 0.8323333333333334 | 1.0 | 1000 | 3000 |   0   |\n",
       " |   3e-05   | 0.8016666666666666 | 1.0 | 1000 | 3000 |   0   |\n",
       " |   4e-05   | 0.7806666666666666 | 1.0 | 1000 | 3000 |   0   |\n",
       " |   5e-05   |       0.761        | 1.0 | 1000 | 3000 |   0   |\n",
       " |   6e-05   | 0.7406666666666667 | 1.0 | 1000 | 3000 |   0   |\n",
       " |   7e-05   |       0.724        | 1.0 | 1000 | 3000 |   0   |\n",
       " |   8e-05   | 0.7156666666666667 | 1.0 | 1000 | 3000 |   0   |\n",
       " |   9e-05   | 0.7013333333333334 | 1.0 | 1000 | 3000 |   0   |\n",
       " +-----------+--------------------+-----+------+------+-------+\n",
       " [400004 rows x 6 columns]\n",
       " Note: Only the head of the SFrame is printed.\n",
       " You can use print_rows(num_rows=m, num_columns=n) to print more rows and columns.}"
      ]
     },
     "execution_count": 15,
     "metadata": {},
     "output_type": "execute_result"
    }
   ],
   "source": [
    "deep_features_model.evaluate(image_test)"
   ]
  },
  {
   "cell_type": "code",
   "execution_count": null,
   "metadata": {},
   "outputs": [],
   "source": []
  }
 ],
 "metadata": {
  "kernelspec": {
   "display_name": "Python 3",
   "language": "python",
   "name": "python3"
  },
  "language_info": {
   "codemirror_mode": {
    "name": "ipython",
    "version": 3
   },
   "file_extension": ".py",
   "mimetype": "text/x-python",
   "name": "python",
   "nbconvert_exporter": "python",
   "pygments_lexer": "ipython3",
   "version": "3.6.9"
  }
 },
 "nbformat": 4,
 "nbformat_minor": 2
}
